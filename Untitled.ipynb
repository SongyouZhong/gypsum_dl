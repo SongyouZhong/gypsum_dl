{
 "cells": [
  {
   "cell_type": "code",
   "execution_count": 24,
   "metadata": {},
   "outputs": [],
   "source": [
    "import pickle"
   ]
  },
  {
   "cell_type": "code",
   "execution_count": 33,
   "metadata": {},
   "outputs": [
    {
     "ename": "UnicodeDecodeError",
     "evalue": "'ascii' codec can't decode byte 0xef in position 0: ordinal not in range(128)",
     "output_type": "error",
     "traceback": [
      "\u001b[0;31m---------------------------------------------------------------------------\u001b[0m",
      "\u001b[0;31mUnicodeDecodeError\u001b[0m                        Traceback (most recent call last)",
      "\u001b[0;32m<ipython-input-33-f2808f8aa190>\u001b[0m in \u001b[0;36m<module>\u001b[0;34m()\u001b[0m\n\u001b[1;32m     13\u001b[0m \u001b[0;34m\u001b[0m\u001b[0m\n\u001b[1;32m     14\u001b[0m \u001b[0moutfile\u001b[0m \u001b[0;34m=\u001b[0m \u001b[0;34m\"/home/jacob/Documents/gypsum/picklefile\"\u001b[0m\u001b[0;34m\u001b[0m\u001b[0m\n\u001b[0;32m---> 15\u001b[0;31m \u001b[0mcontnrs\u001b[0m \u001b[0;34m=\u001b[0m \u001b[0mget_mols_dict_from_pickle\u001b[0m\u001b[0;34m(\u001b[0m\u001b[0moutfile\u001b[0m\u001b[0;34m)\u001b[0m\u001b[0;34m\u001b[0m\u001b[0m\n\u001b[0m\u001b[1;32m     16\u001b[0m \u001b[0mtaut_data\u001b[0m \u001b[0;34m=\u001b[0m \u001b[0mget_mols_dict_from_pickle\u001b[0m\u001b[0;34m(\u001b[0m\u001b[0moutfile\u001b[0m\u001b[0;34m+\u001b[0m\u001b[0;34m\"taut_data\"\u001b[0m\u001b[0;34m)\u001b[0m\u001b[0;34m\u001b[0m\u001b[0m\n",
      "\u001b[0;32m<ipython-input-33-f2808f8aa190>\u001b[0m in \u001b[0;36mget_mols_dict_from_pickle\u001b[0;34m(file_path)\u001b[0m\n\u001b[1;32m      3\u001b[0m \u001b[0;34m\u001b[0m\u001b[0m\n\u001b[1;32m      4\u001b[0m     \u001b[0;32mwith\u001b[0m \u001b[0mopen\u001b[0m\u001b[0;34m(\u001b[0m\u001b[0mfile_path\u001b[0m\u001b[0;34m,\u001b[0m \u001b[0;34m'rb'\u001b[0m\u001b[0;34m)\u001b[0m \u001b[0;32mas\u001b[0m \u001b[0mhandle\u001b[0m\u001b[0;34m:\u001b[0m\u001b[0;34m\u001b[0m\u001b[0m\n\u001b[0;32m----> 5\u001b[0;31m         \u001b[0mmols_dict\u001b[0m \u001b[0;34m=\u001b[0m \u001b[0mpickle\u001b[0m\u001b[0;34m.\u001b[0m\u001b[0mload\u001b[0m\u001b[0;34m(\u001b[0m\u001b[0mhandle\u001b[0m\u001b[0;34m)\u001b[0m\u001b[0;34m\u001b[0m\u001b[0m\n\u001b[0m\u001b[1;32m      6\u001b[0m     \u001b[0;32mreturn\u001b[0m \u001b[0mmols_dict\u001b[0m\u001b[0;34m\u001b[0m\u001b[0m\n\u001b[1;32m      7\u001b[0m \u001b[0;34m\u001b[0m\u001b[0m\n",
      "\u001b[0;31mUnicodeDecodeError\u001b[0m: 'ascii' codec can't decode byte 0xef in position 0: ordinal not in range(128)"
     ]
    }
   ],
   "source": [
    "\n",
    "def get_mols_dict_from_pickle(file_path):\n",
    "\n",
    "    with open(file_path, 'rb') as handle:\n",
    "        mols_dict = pickle.load(handle)\n",
    "    return mols_dict\n",
    "\n",
    "def write_pickle_to_file(file_path, obj):\n",
    "    with open(file_path, 'wb') as handle:\n",
    "        pickle.dump(obj, handle, protocol=pickle.HIGHEST_PROTOCOL)\n",
    "        \n",
    "\n",
    "\n",
    "outfile = \"/home/jacob/Documents/gypsum/picklefile\"\n",
    "contnrs = get_mols_dict_from_pickle(outfile)\n",
    "taut_data = get_mols_dict_from_pickle(outfile+\"taut_data\")"
   ]
  },
  {
   "cell_type": "code",
   "execution_count": 32,
   "metadata": {},
   "outputs": [
    {
     "name": "stdout",
     "output_type": "stream",
     "text": [
      "<gypsum.MolContainer.MolContainer object at 0x7f7e443aee48>\n",
      "<gypsum.MyMol.MyMol object at 0x7f7e443aeb38>\n",
      "1\n",
      "<gypsum.MolContainer.MolContainer object at 0x7f7e443aee48>\n"
     ]
    }
   ],
   "source": [
    "print(contnrs[1])\n",
    "print(taut_data[1])\n",
    "\n",
    "c = contnrs[1]\n",
    "t = taut_data[1]\n",
    "print(t.contnr_idx)\n",
    "print(contnrs[1])"
   ]
  },
  {
   "cell_type": "code",
   "execution_count": 29,
   "metadata": {},
   "outputs": [
    {
     "name": "stdout",
     "output_type": "stream",
     "text": [
      "8761268275860\n",
      "3\n"
     ]
    },
    {
     "ename": "TypeError",
     "evalue": "'int' object is not callable",
     "output_type": "error",
     "traceback": [
      "\u001b[0;31m---------------------------------------------------------------------------\u001b[0m",
      "\u001b[0;31mTypeError\u001b[0m                                 Traceback (most recent call last)",
      "\u001b[0;32m<ipython-input-29-44a504889470>\u001b[0m in \u001b[0;36m<module>\u001b[0;34m()\u001b[0m\n\u001b[1;32m      1\u001b[0m \u001b[0mprint\u001b[0m\u001b[0;34m(\u001b[0m\u001b[0ma\u001b[0m\u001b[0;34m.\u001b[0m\u001b[0m__hash__\u001b[0m\u001b[0;34m(\u001b[0m\u001b[0;34m)\u001b[0m\u001b[0;34m)\u001b[0m\u001b[0;34m\u001b[0m\u001b[0m\n\u001b[1;32m      2\u001b[0m \u001b[0mprint\u001b[0m\u001b[0;34m(\u001b[0m\u001b[0mx\u001b[0m\u001b[0;34m[\u001b[0m\u001b[0;36m3\u001b[0m\u001b[0;34m]\u001b[0m\u001b[0;34m.\u001b[0m\u001b[0mcontnr_idx\u001b[0m\u001b[0;34m)\u001b[0m\u001b[0;34m\u001b[0m\u001b[0m\n\u001b[0;32m----> 3\u001b[0;31m \u001b[0mprint\u001b[0m\u001b[0;34m(\u001b[0m\u001b[0mx\u001b[0m\u001b[0;34m[\u001b[0m\u001b[0;36m3\u001b[0m\u001b[0;34m]\u001b[0m\u001b[0;34m.\u001b[0m\u001b[0mcontnr_idx\u001b[0m\u001b[0;34m(\u001b[0m\u001b[0;34m)\u001b[0m\u001b[0;34m)\u001b[0m\u001b[0;34m\u001b[0m\u001b[0m\n\u001b[0m",
      "\u001b[0;31mTypeError\u001b[0m: 'int' object is not callable"
     ]
    }
   ],
   "source": [
    "print(a.__hash__())\n",
    "print(x[3].contnr_idx)\n",
    "print(x[3].contnr_idx())"
   ]
  },
  {
   "cell_type": "code",
   "execution_count": 10,
   "metadata": {},
   "outputs": [
    {
     "ename": "TypeError",
     "evalue": "'NoneType' object is not callable",
     "output_type": "error",
     "traceback": [
      "\u001b[0;31m---------------------------------------------------------------------------\u001b[0m",
      "\u001b[0;31mTypeError\u001b[0m                                 Traceback (most recent call last)",
      "\u001b[0;32m<ipython-input-10-186113d97f4b>\u001b[0m in \u001b[0;36m<module>\u001b[0;34m()\u001b[0m\n\u001b[1;32m      1\u001b[0m \u001b[0;32mfor\u001b[0m \u001b[0mi\u001b[0m \u001b[0;32min\u001b[0m \u001b[0mx\u001b[0m\u001b[0;34m:\u001b[0m\u001b[0;34m\u001b[0m\u001b[0m\n\u001b[0;32m----> 2\u001b[0;31m     \u001b[0;32mif\u001b[0m \u001b[0mi\u001b[0m \u001b[0;34m==\u001b[0m \u001b[0;34m[\u001b[0m\u001b[0;34m\"EMPTY\"\u001b[0m\u001b[0;34m]\u001b[0m\u001b[0;34m:\u001b[0m\u001b[0;34m\u001b[0m\u001b[0m\n\u001b[0m\u001b[1;32m      3\u001b[0m         \u001b[0mprint\u001b[0m\u001b[0;34m(\u001b[0m\u001b[0;34m\"HERE\"\u001b[0m\u001b[0;34m)\u001b[0m\u001b[0;34m\u001b[0m\u001b[0m\n\u001b[1;32m      4\u001b[0m     \u001b[0;32melse\u001b[0m\u001b[0;34m:\u001b[0m\u001b[0;34m\u001b[0m\u001b[0m\n\u001b[1;32m      5\u001b[0m         \u001b[0mprint\u001b[0m\u001b[0;34m(\u001b[0m\u001b[0;34m\"NOT EQUAL\"\u001b[0m\u001b[0;34m)\u001b[0m\u001b[0;34m\u001b[0m\u001b[0m\n",
      "\u001b[0;32m~/Documents/gypsum/gypsum/MyMol.py\u001b[0m in \u001b[0;36m__eq__\u001b[0;34m(self, other)\u001b[0m\n\u001b[1;32m    280\u001b[0m \u001b[0;34m\u001b[0m\u001b[0m\n\u001b[1;32m    281\u001b[0m     \u001b[0;32mdef\u001b[0m \u001b[0m__eq__\u001b[0m\u001b[0;34m(\u001b[0m\u001b[0mself\u001b[0m\u001b[0;34m,\u001b[0m \u001b[0mother\u001b[0m\u001b[0;34m)\u001b[0m\u001b[0;34m:\u001b[0m\u001b[0;34m\u001b[0m\u001b[0m\n\u001b[0;32m--> 282\u001b[0;31m         \u001b[0;32mreturn\u001b[0m \u001b[0mself\u001b[0m\u001b[0;34m.\u001b[0m\u001b[0m__hash__\u001b[0m\u001b[0;34m(\u001b[0m\u001b[0;34m)\u001b[0m \u001b[0;34m==\u001b[0m \u001b[0mother\u001b[0m\u001b[0;34m.\u001b[0m\u001b[0m__hash__\u001b[0m\u001b[0;34m(\u001b[0m\u001b[0;34m)\u001b[0m\u001b[0;34m\u001b[0m\u001b[0m\n\u001b[0m\u001b[1;32m    283\u001b[0m \u001b[0;34m\u001b[0m\u001b[0m\n\u001b[1;32m    284\u001b[0m \u001b[0;34m\u001b[0m\u001b[0m\n",
      "\u001b[0;31mTypeError\u001b[0m: 'NoneType' object is not callable"
     ]
    }
   ],
   "source": [
    "for i in x:\n",
    "    if i == [\"EMPTY\"]:\n",
    "        print(\"HERE\")\n",
    "    else:\n",
    "        print(\"NOT EQUAL\")"
   ]
  },
  {
   "cell_type": "code",
   "execution_count": null,
   "metadata": {},
   "outputs": [],
   "source": []
  },
  {
   "cell_type": "code",
   "execution_count": 73,
   "metadata": {},
   "outputs": [
    {
     "data": {
      "text/plain": [
       "[<gypsum.MyMol.MyMol at 0x7fec60f311d0>,\n",
       " <gypsum.MyMol.MyMol at 0x7fec30459ef0>,\n",
       " <gypsum.MyMol.MyMol at 0x7fec2ee98ba8>,\n",
       " <gypsum.MyMol.MyMol at 0x7fec2ee98c18>,\n",
       " <gypsum.MyMol.MyMol at 0x7fec2ee9f390>,\n",
       " <gypsum.MyMol.MyMol at 0x7fec2ee9f7f0>,\n",
       " <gypsum.MyMol.MyMol at 0x7fec2ee9f860>,\n",
       " <gypsum.MyMol.MyMol at 0x7fec2ee9f8d0>,\n",
       " [[<gypsum.MyMol.MyMol at 0x7fec60f311d0>,\n",
       "   <gypsum.MyMol.MyMol at 0x7fec30459ef0>,\n",
       "   <gypsum.MyMol.MyMol at 0x7fec2ee98ba8>,\n",
       "   <gypsum.MyMol.MyMol at 0x7fec2ee98c18>,\n",
       "   <gypsum.MyMol.MyMol at 0x7fec2ee9f390>,\n",
       "   <gypsum.MyMol.MyMol at 0x7fec2ee9f7f0>,\n",
       "   <gypsum.MyMol.MyMol at 0x7fec2ee9f860>,\n",
       "   <gypsum.MyMol.MyMol at 0x7fec2ee9f8d0>,\n",
       "   <__main__.Empty_obj at 0x7fec2edc46a0>,\n",
       "   [<__main__.Empty_obj at 0x7fec2edc46a0>],\n",
       "   <__main__.Empty_obj at 0x7fec2edc46a0>,\n",
       "   [<__main__.Empty_obj at 0x7fec2edc46a0>],\n",
       "   [...],\n",
       "   <__main__.Empty_obj at 0x7fec2edc46a0>,\n",
       "   [<__main__.Empty_obj at 0x7fec2edc46a0>],\n",
       "   [[...]]]],\n",
       " [[<gypsum.MyMol.MyMol at 0x7fec60f311d0>,\n",
       "   <gypsum.MyMol.MyMol at 0x7fec30459ef0>,\n",
       "   <gypsum.MyMol.MyMol at 0x7fec2ee98ba8>,\n",
       "   <gypsum.MyMol.MyMol at 0x7fec2ee98c18>,\n",
       "   <gypsum.MyMol.MyMol at 0x7fec2ee9f390>,\n",
       "   <gypsum.MyMol.MyMol at 0x7fec2ee9f7f0>,\n",
       "   <gypsum.MyMol.MyMol at 0x7fec2ee9f860>,\n",
       "   <gypsum.MyMol.MyMol at 0x7fec2ee9f8d0>,\n",
       "   <__main__.Empty_obj at 0x7fec2edc46a0>,\n",
       "   [<__main__.Empty_obj at 0x7fec2edc46a0>],\n",
       "   <__main__.Empty_obj at 0x7fec2edc46a0>,\n",
       "   [<__main__.Empty_obj at 0x7fec2edc46a0>],\n",
       "   [[...]],\n",
       "   <__main__.Empty_obj at 0x7fec2edc46a0>,\n",
       "   [<__main__.Empty_obj at 0x7fec2edc46a0>],\n",
       "   [...]]]]"
      ]
     },
     "execution_count": 73,
     "metadata": {},
     "output_type": "execute_result"
    }
   ],
   "source": [
    "new"
   ]
  },
  {
   "cell_type": "code",
   "execution_count": 72,
   "metadata": {},
   "outputs": [
    {
     "name": "stdout",
     "output_type": "stream",
     "text": [
      "HHHHHH:  <__main__.Empty_obj object at 0x7fec2edc46a0>\n",
      "zzz:  [<__main__.Empty_obj object at 0x7fec2edc46a0>]\n",
      "HHHHHH:  <__main__.Empty_obj object at 0x7fec2edc46a0>\n",
      "zzz:  [<__main__.Empty_obj object at 0x7fec2edc46a0>]\n",
      "HHHHHH:  <__main__.Empty_obj object at 0x7fec2edc46a0>\n",
      "zzz:  [<__main__.Empty_obj object at 0x7fec2edc46a0>]\n"
     ]
    }
   ],
   "source": [
    "new = []\n",
    "for i in y:\n",
    "    if i == Empty_object or type(i) == type(Empty_object):\n",
    "        print(\"HHHHHH: \", i)\n",
    "    elif type(i) == list and i[0] == Empty_object: \n",
    "        print(\"zzz: \", i)\n",
    "    elif type(i) == list and type(i[0]) == type(Empty_object):\n",
    "        print(\"zzz: \", i)\n",
    "    else:\n",
    "        new.append(i)"
   ]
  },
  {
   "cell_type": "code",
   "execution_count": 70,
   "metadata": {},
   "outputs": [],
   "source": [
    "y = x\n",
    "y.append(Empty_object)\n",
    "y.append([Empty_object])\n",
    "y.append([x])"
   ]
  },
  {
   "cell_type": "code",
   "execution_count": 71,
   "metadata": {},
   "outputs": [
    {
     "data": {
      "text/plain": [
       "[<gypsum.MyMol.MyMol at 0x7fec60f311d0>,\n",
       " <gypsum.MyMol.MyMol at 0x7fec30459ef0>,\n",
       " <gypsum.MyMol.MyMol at 0x7fec2ee98ba8>,\n",
       " <gypsum.MyMol.MyMol at 0x7fec2ee98c18>,\n",
       " <gypsum.MyMol.MyMol at 0x7fec2ee9f390>,\n",
       " <gypsum.MyMol.MyMol at 0x7fec2ee9f7f0>,\n",
       " <gypsum.MyMol.MyMol at 0x7fec2ee9f860>,\n",
       " <gypsum.MyMol.MyMol at 0x7fec2ee9f8d0>,\n",
       " <__main__.Empty_obj at 0x7fec2edc46a0>,\n",
       " [<__main__.Empty_obj at 0x7fec2edc46a0>],\n",
       " <__main__.Empty_obj at 0x7fec2edc46a0>,\n",
       " [<__main__.Empty_obj at 0x7fec2edc46a0>],\n",
       " [[...]],\n",
       " <__main__.Empty_obj at 0x7fec2edc46a0>,\n",
       " [<__main__.Empty_obj at 0x7fec2edc46a0>],\n",
       " [[...]]]"
      ]
     },
     "execution_count": 71,
     "metadata": {},
     "output_type": "execute_result"
    }
   ],
   "source": [
    "y"
   ]
  },
  {
   "cell_type": "code",
   "execution_count": 47,
   "metadata": {},
   "outputs": [
    {
     "name": "stdout",
     "output_type": "stream",
     "text": [
      "<gypsum.MyMol.MyMol object at 0x7fec60f311d0>\n",
      "<class 'gypsum.MyMol.MyMol'>\n",
      "<gypsum.MyMol.MyMol object at 0x7fec30459ef0>\n",
      "<class 'gypsum.MyMol.MyMol'>\n",
      "<gypsum.MyMol.MyMol object at 0x7fec2ee98ba8>\n",
      "<class 'gypsum.MyMol.MyMol'>\n",
      "<gypsum.MyMol.MyMol object at 0x7fec2ee98c18>\n",
      "<class 'gypsum.MyMol.MyMol'>\n",
      "<gypsum.MyMol.MyMol object at 0x7fec2ee9f390>\n",
      "<class 'gypsum.MyMol.MyMol'>\n",
      "<gypsum.MyMol.MyMol object at 0x7fec2ee9f7f0>\n",
      "<class 'gypsum.MyMol.MyMol'>\n",
      "<gypsum.MyMol.MyMol object at 0x7fec2ee9f860>\n",
      "<class 'gypsum.MyMol.MyMol'>\n",
      "<gypsum.MyMol.MyMol object at 0x7fec2ee9f8d0>\n",
      "<class 'gypsum.MyMol.MyMol'>\n"
     ]
    }
   ],
   "source": [
    "for i in x:\n",
    "    print(i)\n",
    "    print(type(i))"
   ]
  },
  {
   "cell_type": "code",
   "execution_count": 39,
   "metadata": {},
   "outputs": [],
   "source": [
    "\n",
    "\n",
    "class Empty_obj(object):\n",
    "    \"\"\"\n",
    "    Create a unique Empty Object to hand to empty processors\n",
    "    \"\"\"\n",
    "    pass\n",
    "    "
   ]
  },
  {
   "cell_type": "code",
   "execution_count": 40,
   "metadata": {},
   "outputs": [],
   "source": [
    "Empty_object = Empty_obj()"
   ]
  },
  {
   "cell_type": "code",
   "execution_count": 41,
   "metadata": {},
   "outputs": [
    {
     "data": {
      "text/plain": [
       "<__main__.Empty_obj at 0x7fec2edc46a0>"
      ]
     },
     "execution_count": 41,
     "metadata": {},
     "output_type": "execute_result"
    }
   ],
   "source": [
    "Empty_object"
   ]
  },
  {
   "cell_type": "code",
   "execution_count": 42,
   "metadata": {},
   "outputs": [
    {
     "data": {
      "text/plain": [
       "__main__.Empty_obj"
      ]
     },
     "execution_count": 42,
     "metadata": {},
     "output_type": "execute_result"
    }
   ],
   "source": [
    "Empty_obj"
   ]
  },
  {
   "cell_type": "code",
   "execution_count": 38,
   "metadata": {},
   "outputs": [
    {
     "data": {
      "text/plain": [
       "<__main__.Empty_obj at 0x7fec2edc4e10>"
      ]
     },
     "execution_count": 38,
     "metadata": {},
     "output_type": "execute_result"
    }
   ],
   "source": [
    "Empty_obj()"
   ]
  },
  {
   "cell_type": "code",
   "execution_count": 44,
   "metadata": {},
   "outputs": [
    {
     "data": {
      "text/plain": [
       "<__main__.Empty_obj at 0x7fec2edc46a0>"
      ]
     },
     "execution_count": 44,
     "metadata": {},
     "output_type": "execute_result"
    }
   ],
   "source": [
    "Empty_object"
   ]
  },
  {
   "cell_type": "code",
   "execution_count": 46,
   "metadata": {},
   "outputs": [
    {
     "data": {
      "text/plain": [
       "__main__.Empty_obj"
      ]
     },
     "execution_count": 46,
     "metadata": {},
     "output_type": "execute_result"
    }
   ],
   "source": [
    "type(Empty_object)"
   ]
  },
  {
   "cell_type": "code",
   "execution_count": null,
   "metadata": {},
   "outputs": [],
   "source": []
  }
 ],
 "metadata": {
  "kernelspec": {
   "display_name": "Python 3",
   "language": "python",
   "name": "python3"
  },
  "language_info": {
   "codemirror_mode": {
    "name": "ipython",
    "version": 3
   },
   "file_extension": ".py",
   "mimetype": "text/x-python",
   "name": "python",
   "nbconvert_exporter": "python",
   "pygments_lexer": "ipython3",
   "version": "3.6.6"
  }
 },
 "nbformat": 4,
 "nbformat_minor": 2
}
